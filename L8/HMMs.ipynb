{
 "cells": [
  {
   "cell_type": "markdown",
   "metadata": {},
   "source": [
    "# CS5340 Lecture 8:  HMMs #\n",
    "\n",
    "Lecturer: Harold Soh (harold@comp.nus.edu.sg)\n",
    "\n",
    "Graduate TAs: Abdul Fatir Ansari and Chen Kaiqi (AY19/20)\n",
    "\n",
    "This notebook is a supplement to Lecture 8 of CS5340: Uncertainty Modeling in AI\n",
    "\n",
    "The material uses the hmmlearn package and is based on the tutorial provided by the hmmlearn package (https://hmmlearn.readthedocs.io/en/latest/tutorial.html)\n",
    "\n",
    "To install hmmlearn, please refer to: https://github.com/hmmlearn/hmmlearn. \n",
    "Typically, to install: \n",
    "\n",
    "```pip install --upgrade --user hmmlearn```\n"
   ]
  },
  {
   "cell_type": "code",
   "execution_count": null,
   "metadata": {
    "collapsed": true
   },
   "outputs": [],
   "source": [
    "%matplotlib inline\n",
    "import numpy as np\n",
    "import matplotlib.pyplot as plt\n",
    "\n",
    "from hmmlearn import hmm\n",
    "from scipy.optimize import linear_sum_assignment\n",
    "from sklearn.metrics.pairwise import euclidean_distances"
   ]
  },
  {
   "cell_type": "code",
   "execution_count": null,
   "metadata": {
    "collapsed": true
   },
   "outputs": [],
   "source": [
    "# for printing\n",
    "np.set_printoptions(formatter={'float': lambda x: \"{0:0.2f}\".format(x)})"
   ]
  },
  {
   "cell_type": "markdown",
   "metadata": {},
   "source": [
    "## Creating our HMM ##\n",
    "\n",
    "Let us first create a Hidden Markov Model (we call HMM_A) where we know all the parameters\n"
   ]
  },
  {
   "cell_type": "code",
   "execution_count": null,
   "metadata": {
    "collapsed": true
   },
   "outputs": [],
   "source": [
    "# the start probabilities (pi)\n",
    "startprob = np.array([0.6, 0.3, 0.1, 0.0])\n",
    "\n",
    "# The transition matrix (A)\n",
    "# each row represents the transition probability from one component to the others\n",
    "transmat =  np.array([[0.7, 0.3, 0.0, 0.0],\n",
    "                      [0.4, 0.1, 0.3, 0.2],\n",
    "                      [0.1, 0.1, 0.7, 0.1],\n",
    "                      [0.4, 0.0, 0.1, 0.5]])\n",
    "\n",
    "# Next comes the emission probabilities (\\phi)\n",
    "# The means of each component\n",
    "means = np.array([[0.0,  5.0],\n",
    "                  [5.0, 5.0],\n",
    "                  [0.0, 0.0],\n",
    "                  [5.0, 0.0]])\n",
    "\n",
    "# The covariance of each component\n",
    "var_param = 1.0 # you can play with this parameter to increase/decrease the spread of the observations\n",
    "covars = var_param * np.tile(np.identity(2), (4, 1, 1))\n",
    "\n",
    "# Build our HMM with the parameters above\n",
    "HMM_A = hmm.GaussianHMM(n_components=4, covariance_type=\"full\")\n",
    "\n",
    "# Instead of fitting it from the data, we directly set the estimated\n",
    "# parameters, the means and covariance of the components\n",
    "HMM_A.startprob_ = startprob\n",
    "HMM_A.transmat_ = transmat\n",
    "HMM_A.means_ = means\n",
    "HMM_A.covars_ = covars"
   ]
  },
  {
   "cell_type": "markdown",
   "metadata": {},
   "source": [
    "## Sample from our HMM ##\n",
    "\n",
    "We can then sample trajectories from HMM."
   ]
  },
  {
   "cell_type": "code",
   "execution_count": null,
   "metadata": {},
   "outputs": [],
   "source": [
    "# Generate one long sequence\n",
    "X, Z = HMM_A.sample(20)\n",
    "\n",
    "# Plot the sampled data\n",
    "plt.plot(X[:, 0], X[:, 1], \".-\", label=\"observations\", ms=6,\n",
    "         mfc=\"orange\", alpha=0.7)\n",
    "\n",
    "# Indicate the component numbers\n",
    "rooms = [\"bedroom\", \"toilet\", \"living room\", \"kitchen\"]\n",
    "for i, m in enumerate(means):\n",
    "    plt.text(m[0], m[1], '%s' % rooms[i],\n",
    "             size=17, horizontalalignment='center',\n",
    "             bbox=dict(alpha=.7, facecolor='w'))\n",
    "plt.legend(loc='best')\n",
    "plt.show()"
   ]
  },
  {
   "cell_type": "markdown",
   "metadata": {},
   "source": [
    "## Learn a new HMM from data ##\n",
    "\n",
    "Here, we will learn a new HMM model (HMM_B) using data sampled from our known HMM model above."
   ]
  },
  {
   "cell_type": "code",
   "execution_count": null,
   "metadata": {
    "collapsed": true
   },
   "outputs": [],
   "source": [
    "# generate multiple sequences\n",
    "M = 100 # number of sequences\n",
    "N = 10 # each sequence length\n",
    "X, Z = HMM_A.sample(N)\n",
    "L = len(X)\n",
    "for i in range(M-1):\n",
    "    Xtemp, Ztemp = HMM_A.sample(N)\n",
    "    X = np.concatenate([X, Xtemp])\n",
    "    Z = np.concatenate([Z, Ztemp])\n",
    "    L = np.append(L, len(Xtemp))"
   ]
  },
  {
   "cell_type": "code",
   "execution_count": null,
   "metadata": {},
   "outputs": [],
   "source": [
    "HMM_B = hmm.GaussianHMM(n_components=4, covariance_type=\"full\", n_iter=100, verbose=True)\n",
    "HMM_B.fit(X,L)"
   ]
  },
  {
   "cell_type": "markdown",
   "metadata": {},
   "source": [
    "### After Learning ###\n",
    "Let's check if the model has learnt the correct parameters.\n",
    "\n",
    "*Note*: the component indices may not match; you want to verify that you can find a matching component for each of the means. We will use the Hungarian algorithm to try to find best matches."
   ]
  },
  {
   "cell_type": "code",
   "execution_count": null,
   "metadata": {},
   "outputs": [],
   "source": [
    "print(\"Component Means\")\n",
    "print(\"Learnt\")\n",
    "print(HMM_B.means_)\n",
    "print(\"True\")\n",
    "print(HMM_A.means_)"
   ]
  },
  {
   "cell_type": "code",
   "execution_count": null,
   "metadata": {
    "collapsed": true
   },
   "outputs": [],
   "source": [
    "# we can try to match the components using the Hungarian algorithm\n",
    "cost = euclidean_distances( HMM_A.means_, HMM_B.means_)\n",
    "row_ind, col_ind = linear_sum_assignment(cost)\n",
    "# print(row_ind)\n",
    "# print(col_ind)\n",
    "\n",
    "def remapMeans(A, ind):\n",
    "    B = np.array(A)\n",
    "    for i in range(B.shape[0]):\n",
    "        B[i,:] = A[ind[i], :]\n",
    "    return B\n",
    "\n",
    "def remapMat(A, ind):\n",
    "    B = np.array(A)\n",
    "    for i in range(B.shape[0]):\n",
    "        B[i,:] = A[ind[i], ind]\n",
    "    return B\n"
   ]
  },
  {
   "cell_type": "code",
   "execution_count": null,
   "metadata": {},
   "outputs": [],
   "source": [
    "means_remap = remapMeans(HMM_B.means_, col_ind)\n",
    "print(\"Learnt Means\")\n",
    "print(means_remap)\n",
    "print(\"True Means\")\n",
    "print(HMM_A.means_)\n",
    "\n",
    "plt.scatter(means_remap[:,0], means_remap[:,1])\n",
    "plt.scatter(HMM_A.means_[:,0], HMM_A.means_[:,1], marker='+' )\n",
    "plt.legend([\"Learnt\", \"True\"])\n"
   ]
  },
  {
   "cell_type": "code",
   "execution_count": null,
   "metadata": {},
   "outputs": [],
   "source": [
    "print(\"Transition Probabilities\")\n",
    "print(\"Learnt A\")\n",
    "trans_remap = remapMat(HMM_B.transmat_, col_ind)\n",
    "print(trans_remap)\n",
    "print(\"True A\")\n",
    "print(HMM_A.transmat_)\n",
    "\n",
    "plt.subplot(121)\n",
    "plt.imshow(trans_remap, vmin=0.0, vmax=1.0)\n",
    "plt.title(\"Learnt Transitions\")\n",
    "plt.colorbar()\n",
    "plt.subplot(122)\n",
    "plt.imshow(HMM_A.transmat_, vmin=0.0, vmax=1.0)\n",
    "plt.title(\"True Transitions\")\n",
    "plt.colorbar()"
   ]
  },
  {
   "cell_type": "code",
   "execution_count": null,
   "metadata": {
    "collapsed": true
   },
   "outputs": [],
   "source": [
    "# predict the latent components using the relearned model \n",
    "Zpred = HMM_B.predict(X)"
   ]
  },
  {
   "cell_type": "code",
   "execution_count": null,
   "metadata": {
    "collapsed": true
   },
   "outputs": [],
   "source": [
    "print(Zpred)\n",
    "print(Z)"
   ]
  },
  {
   "cell_type": "code",
   "execution_count": null,
   "metadata": {
    "collapsed": true
   },
   "outputs": [],
   "source": []
  }
 ],
 "metadata": {
  "kernelspec": {
   "display_name": "Python [default]",
   "language": "python",
   "name": "python3"
  },
  "language_info": {
   "codemirror_mode": {
    "name": "ipython",
    "version": 3
   },
   "file_extension": ".py",
   "mimetype": "text/x-python",
   "name": "python",
   "nbconvert_exporter": "python",
   "pygments_lexer": "ipython3",
   "version": "3.6.3"
  }
 },
 "nbformat": 4,
 "nbformat_minor": 1
}
